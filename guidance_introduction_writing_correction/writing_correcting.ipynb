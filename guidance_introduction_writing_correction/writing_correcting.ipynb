{
 "cells": [
  {
   "attachments": {},
   "cell_type": "markdown",
   "metadata": {},
   "source": [
    "# Writting Correction\n",
    "This notebook is a simple example that shows how to create a Guidance Program that corrects a given text on grammar, spelling and writing using a Chat Model."
   ]
  },
  {
   "attachments": {},
   "cell_type": "markdown",
   "metadata": {},
   "source": [
    "## Installing dependencies\n",
    "Lets install the necessary packages for this tutorial notebook."
   ]
  },
  {
   "cell_type": "code",
   "execution_count": null,
   "metadata": {},
   "outputs": [],
   "source": [
    "%pip install guidance ipywidgets openai python-dotenv IPython"
   ]
  },
  {
   "attachments": {},
   "cell_type": "markdown",
   "metadata": {},
   "source": [
    "First let us import the necessary OpenAI Key for this tutorial. Make sure to create a `.env` file in the root of this directory like so:\n",
    "```\n",
    "OPENAI_API_KEY=sk-...\n",
    "```"
   ]
  },
  {
   "cell_type": "code",
   "execution_count": null,
   "metadata": {},
   "outputs": [],
   "source": [
    "from dotenv import load_dotenv, find_dotenv\n",
    "_ = load_dotenv(find_dotenv()) # read local .env file for our API Keys\n",
    "\n",
    "import guidance"
   ]
  },
  {
   "attachments": {},
   "cell_type": "markdown",
   "metadata": {},
   "source": [
    "## Define a simple Guidance Program\n",
    "Now let us create a simple Guidance Program that we can input a text to correct based on our preferences."
   ]
  },
  {
   "cell_type": "code",
   "execution_count": null,
   "metadata": {},
   "outputs": [],
   "source": [
    "llm = guidance.llms.OpenAI(\"gpt-4\")\n",
    "\n",
    "correction_program = guidance('''\n",
    "{{#system~}}\n",
    "You are a friendly expert in writing. You exceed in Grammar, Spelling, Vocabulary and Style. Assist the user with correcting their writing.\n",
    "Only correct text that is delimited by <text></text>.\n",
    "{{~/system}}\n",
    "\n",
    "{{#user~}}\n",
    "I need assistance with my writing. Help correct any Grammar and Spelling errors and suggest ways to improve my writing such as suggesting a diverse vocabulary.\n",
    "Here is the text I wrote:\n",
    "<text>\n",
    "{{text_input}}\n",
    "</text>\n",
    "{{~/user}}\n",
    "\n",
    "{{#assistant~}}\n",
    "{{gen 'answer' temperature=0 max_tokens=500}}\n",
    "{{~/assistant}}''', llm=llm)"
   ]
  },
  {
   "attachments": {},
   "cell_type": "markdown",
   "metadata": {},
   "source": [
    "As you might notice, the syntax for defining a Program in Guidance is vastly different to Frameworks like [Langchain](https://python.langchain.com/docs/get_started/introduction.html). The syntax appears more like a templating language, and you are right! The syntax was heavily inspired by [Handlebars](https://handlebarsjs.com/).\n",
    "\n",
    "As of time of this writing, there was no direct documentation for Guidance. But in general most handlebar syntax works here too or behaves similar.\n",
    "\n",
    "For Chat Programs that support System Messages, you may use `{{#system}}` and `{{/system}}` to define the system message.\n",
    "User Inputs may be defined similarly with the `user` keyword: `{{#user}}` and `{{/user}}`. Assistants are similar with the `assistant` keyword `{{#assistant}}` and `{{/assistant}}`. The special character `~` is used to strip whitespaces. Depending on the position: after the line or before it.\n",
    "\n",
    "Notice the use of variables with `{{text_input}}`. Variables may be added to the Program before runtime or at runtime through the generation of an assistant. In our case, we just want to pass the users text to correct.\n",
    "\n",
    "The `{{gen}}` keyword tells the program to pause and generate the snippet. If no blocks are hidden through `{{#block hidden=True}}`, the previous context will be passed. In our case, we don't need that. We define the variable name to be `answer`, set a temperature of `0` because we want to prevent hallucinations and set our `max_tokens` to 500. If you were to use this in a real application, you might want to ensure the limit is not exceeded by the user and the resulting output. For example by splitting the text into chunks, limiting the input or controlling the max_tokens based on the token length of the users text."
   ]
  },
  {
   "attachments": {},
   "cell_type": "markdown",
   "metadata": {},
   "source": [
    "## Run the program\n",
    "First let us define a sample text to use. In this example, we have generated a text using GPT-4 with spelling and grammatic errors, as well as a \"monotone\" vocabulary. Feel free to test on your own text!"
   ]
  },
  {
   "cell_type": "code",
   "execution_count": null,
   "metadata": {},
   "outputs": [],
   "source": [
    "text = '''\n",
    "Hey guyz! So, I wanna talk to u bout dis new fone what just came out. Like, its litteraly the bomb! Its got these awesome futures that gonna blow youre mind! The screeen is huge and colors is soooo vibrant. Its like looking at a rainbow threw a telescope or sumthing. Battery life? Dont even get me startid. It lasts like for ages. U can prolly use it for a week wifout chargin.\n",
    "'''"
   ]
  },
  {
   "attachments": {},
   "cell_type": "markdown",
   "metadata": {},
   "source": [
    "Now let's run our simple Program:"
   ]
  },
  {
   "cell_type": "code",
   "execution_count": null,
   "metadata": {},
   "outputs": [],
   "source": [
    "correction_program(text_input=text)"
   ]
  },
  {
   "attachments": {},
   "cell_type": "markdown",
   "metadata": {},
   "source": [
    "As we can see, the Program corrects spelling, grammar and depending on the input, it also might do some fine rewriting to make the text more appealing. However, we may want more fine-grained control when we do inference based on our template. Maybe, we just want spelling & grammar corrections but not a rewrite of our wording.\n",
    "Also, in unfortunate situations it may add the delimiter or undesired output. For that, let us adjust our Program a little."
   ]
  },
  {
   "cell_type": "code",
   "execution_count": null,
   "metadata": {},
   "outputs": [],
   "source": [
    "llm = guidance.llms.OpenAI(\"gpt-4\")\n",
    "\n",
    "correction_program = guidance('''\n",
    "{{#system~}}\n",
    "You are a friendly expert in writing. You exceed in Grammar, Spelling, Vocabulary and Style. Assist the user with correcting their writing.\n",
    "Only correct text that is delimited by <text></text>. When responding corrected text, do not add <text></text>.\n",
    "Only correct text based on: \n",
    "{{~#each correction_criteria}}\n",
    "- {{this}}\n",
    "{{~/each}}\n",
    "{{~/system}}\n",
    "\n",
    "{{#user~}}\n",
    "I need assistance with my writing. Help correct any Grammar and Spelling errors and suggest ways to improve my writing such as suggesting a diverse vocabulary.\n",
    "Here is the text I wrote:\n",
    "<text>\n",
    "{{text_input}}\n",
    "</text>\n",
    "{{~/user}}\n",
    "\n",
    "{{#assistant~}}\n",
    "Sure, I am happy to help you. Here is the corrected text I wrote:\n",
    "{{~/assistant}}\n",
    "\n",
    "{{#assistant~}}\n",
    "{{gen 'answer' temperature=0 max_tokens=500}}\n",
    "{{~/assistant}}''', llm=llm)"
   ]
  },
  {
   "attachments": {},
   "cell_type": "markdown",
   "metadata": {},
   "source": [
    "Now we can pass a list with the things we want to correct. Notice how we used `{{#each}}` here to build a list with bulletpoints with `{{this}}` we can dump the content of the variable in the List. If we were to have a dictionary as the current item we could access the sub-variables by dumping `{{this.variable}}`."
   ]
  },
  {
   "cell_type": "code",
   "execution_count": null,
   "metadata": {},
   "outputs": [],
   "source": [
    "correction_program(text_input=text, correction_criteria=['grammar', 'spelling'])"
   ]
  },
  {
   "attachments": {},
   "cell_type": "markdown",
   "metadata": {},
   "source": [
    "## Building a little Correcting Application\n",
    "Now that we have verified our Guidance Program to work and adjusted our Program to give us more control over the output, we can build a little application in the notebook. In production, this would be a User Interface or an API where the user can insert a text to be corrected based on provided Criteria."
   ]
  },
  {
   "cell_type": "code",
   "execution_count": null,
   "metadata": {},
   "outputs": [],
   "source": [
    "import ipywidgets as widgets\n",
    "from IPython.display import display, Markdown\n",
    "\n",
    "# The Input Widget for the users Text\n",
    "text_input = widgets.Textarea(\n",
    "    value='',\n",
    "    placeholder='Enter the Text you wish to correct...',\n",
    "    disabled=False,\n",
    "    rows=10\n",
    ")\n",
    "\n",
    "# Options for the checkboxes\n",
    "options=['Grammar', 'Spelling', 'Style', 'Vocabulary']\n",
    "checkboxes = [widgets.Checkbox(value=False, description=option) for option in options]\n",
    "checkboxes_container = widgets.VBox(checkboxes)\n",
    "checkboxes_label = widgets.Label(value='Select what you want to correct')\n",
    "\n",
    "# The Submit Button\n",
    "button = widgets.Button(description='Submit', button_style='primary')\n",
    "\n",
    "# Layout Container for button and Input\n",
    "button_input_container = widgets.VBox([text_input, button])\n",
    "\n",
    "# Create an output widget to display the conversation history\n",
    "output = widgets.Output()\n",
    "\n",
    "def format_input(user, user_input):\n",
    "    return f\"## {user}: \\n --- \\n {user_input}\"\n",
    "\n",
    "# Function to handle the text input\n",
    "def handle_submit(sender):\n",
    "    with output:\n",
    "        # Check which checkboxes are selected\n",
    "        selected_options = [cb.description for cb in checkboxes if cb.value]\n",
    "\n",
    "        user_input = text_input.value\n",
    "        # Clear the input box for the next message\n",
    "        text_input.value = ''\n",
    "        # Display the user's input\n",
    "        display(Markdown(format_input('Text', user_input)))\n",
    "        result = correction_program(text_input=user_input, correction_criteria=selected_options)\n",
    "        display(Markdown(format_input('Suggestion', result['answer'])))\n",
    "with output:\n",
    "    display(Markdown('# Writing Correction'))\n",
    "\n",
    "# Link the function to the button input's click event\n",
    "button.on_click(handle_submit)\n",
    "\n",
    "# Display the widgets\n",
    "display(output, checkboxes_label, checkboxes_container, button_input_container)"
   ]
  },
  {
   "attachments": {},
   "cell_type": "markdown",
   "metadata": {},
   "source": [
    "Now we have a neat little interface where we can paste our text and select what we want to correct! Here are some ideas how to further improve this little application:\n",
    "\n",
    "- Expand the Program to explain some corrections and thought processes (e.g. Chain of Thought)\n",
    "- Add more Options and add Explanations in the System Message (e.g. Temporal Coherence)"
   ]
  },
  {
   "attachments": {},
   "cell_type": "markdown",
   "metadata": {},
   "source": [
    "Guidance offers a lot more features and customization abilities as this notebook was just made as a simple introduction. Feel free to check out the [repo](https://github.com/microsoft/guidance)!"
   ]
  }
 ],
 "metadata": {
  "kernelspec": {
   "display_name": "guidance",
   "language": "python",
   "name": "python3"
  },
  "language_info": {
   "codemirror_mode": {
    "name": "ipython",
    "version": 3
   },
   "file_extension": ".py",
   "mimetype": "text/x-python",
   "name": "python",
   "nbconvert_exporter": "python",
   "pygments_lexer": "ipython3",
   "version": "3.10.0"
  },
  "orig_nbformat": 4
 },
 "nbformat": 4,
 "nbformat_minor": 2
}
